{
  "cells": [
    {
      "cell_type": "code",
      "execution_count": 1,
      "metadata": {
        "id": "H89_1AEKy95e",
        "colab": {
          "base_uri": "https://localhost:8080/"
        },
        "outputId": "90b3bde4-839c-4e2f-d8e3-2702c85091cb"
      },
      "outputs": [
        {
          "output_type": "stream",
          "name": "stdout",
          "text": [
            "Mounted at /content/drive\n"
          ]
        }
      ],
      "source": [
        "from google.colab import drive\n",
        "drive.mount('/content/drive')"
      ]
    },
    {
      "cell_type": "code",
      "execution_count": 2,
      "metadata": {
        "id": "XwWnYtlezIII",
        "colab": {
          "base_uri": "https://localhost:8080/"
        },
        "outputId": "c7acb53e-976f-4d6d-bcf7-d5a15ca762a5"
      },
      "outputs": [
        {
          "output_type": "stream",
          "name": "stdout",
          "text": [
            "\u001b[?25l\r\u001b[K     |██▋                             | 10 kB 22.6 MB/s eta 0:00:01\r\u001b[K     |█████▏                          | 20 kB 12.4 MB/s eta 0:00:01\r\u001b[K     |███████▉                        | 30 kB 16.9 MB/s eta 0:00:01\r\u001b[K     |██████████▍                     | 40 kB 6.6 MB/s eta 0:00:01\r\u001b[K     |█████████████                   | 51 kB 7.1 MB/s eta 0:00:01\r\u001b[K     |███████████████▋                | 61 kB 8.3 MB/s eta 0:00:01\r\u001b[K     |██████████████████▏             | 71 kB 7.0 MB/s eta 0:00:01\r\u001b[K     |████████████████████▉           | 81 kB 7.8 MB/s eta 0:00:01\r\u001b[K     |███████████████████████▍        | 92 kB 8.2 MB/s eta 0:00:01\r\u001b[K     |██████████████████████████      | 102 kB 7.6 MB/s eta 0:00:01\r\u001b[K     |████████████████████████████▋   | 112 kB 7.6 MB/s eta 0:00:01\r\u001b[K     |███████████████████████████████▏| 122 kB 7.6 MB/s eta 0:00:01\r\u001b[K     |████████████████████████████████| 125 kB 7.6 MB/s \n",
            "\u001b[?25h"
          ]
        }
      ],
      "source": [
        "!pip install vaderSentiment --quiet"
      ]
    },
    {
      "cell_type": "code",
      "execution_count": 3,
      "metadata": {
        "id": "uifwcK8Ty-4g"
      },
      "outputs": [],
      "source": [
        "import pandas as pd\n",
        "from vaderSentiment.vaderSentiment import SentimentIntensityAnalyzer"
      ]
    },
    {
      "cell_type": "code",
      "execution_count": 4,
      "metadata": {
        "id": "Pg9TM-VUzLT2",
        "colab": {
          "base_uri": "https://localhost:8080/",
          "height": 206
        },
        "outputId": "7aed5347-2381-4bae-d687-3d0d73697e84"
      },
      "outputs": [
        {
          "output_type": "execute_result",
          "data": {
            "text/plain": [
              "                                               title  \\\n",
              "0  China's ruling Communist Party expels former G...   \n",
              "1  Trump: U.S. will win appeal of judge's travel ...   \n",
              "2  A DEFENSIVE JOHN KERRY Asks That Israel Move I...   \n",
              "3       EU calls report on May-Juncker talks a smear   \n",
              "4  HIV POSITIVE, CRACK SMOKING, Liberal Actor Cha...   \n",
              "\n",
              "                                                text          subject  \\\n",
              "0  BEIJING (Reuters) - China s ruling Communist P...        worldnews   \n",
              "1  WASHINGTON/PALM BEACH, Fla (Reuters) - U.S. Pr...     politicsNews   \n",
              "2  John Kerry gave a long-winded speech today cla...  Government News   \n",
              "3  BRUSSELS (Reuters) - The European Commission s...        worldnews   \n",
              "4  Less than one year ago, Charlie Sheen s ex-wif...         politics   \n",
              "\n",
              "                  date  label  \n",
              "0  September 22, 2017       1  \n",
              "1    February 3, 2017       1  \n",
              "2         Dec 28, 2016      0  \n",
              "3    October 23, 2017       1  \n",
              "4         Dec 29, 2016      0  "
            ],
            "text/html": [
              "\n",
              "  <div id=\"df-2a6174a8-88a4-43ec-bccc-d84a90d00b84\">\n",
              "    <div class=\"colab-df-container\">\n",
              "      <div>\n",
              "<style scoped>\n",
              "    .dataframe tbody tr th:only-of-type {\n",
              "        vertical-align: middle;\n",
              "    }\n",
              "\n",
              "    .dataframe tbody tr th {\n",
              "        vertical-align: top;\n",
              "    }\n",
              "\n",
              "    .dataframe thead th {\n",
              "        text-align: right;\n",
              "    }\n",
              "</style>\n",
              "<table border=\"1\" class=\"dataframe\">\n",
              "  <thead>\n",
              "    <tr style=\"text-align: right;\">\n",
              "      <th></th>\n",
              "      <th>title</th>\n",
              "      <th>text</th>\n",
              "      <th>subject</th>\n",
              "      <th>date</th>\n",
              "      <th>label</th>\n",
              "    </tr>\n",
              "  </thead>\n",
              "  <tbody>\n",
              "    <tr>\n",
              "      <th>0</th>\n",
              "      <td>China's ruling Communist Party expels former G...</td>\n",
              "      <td>BEIJING (Reuters) - China s ruling Communist P...</td>\n",
              "      <td>worldnews</td>\n",
              "      <td>September 22, 2017</td>\n",
              "      <td>1</td>\n",
              "    </tr>\n",
              "    <tr>\n",
              "      <th>1</th>\n",
              "      <td>Trump: U.S. will win appeal of judge's travel ...</td>\n",
              "      <td>WASHINGTON/PALM BEACH, Fla (Reuters) - U.S. Pr...</td>\n",
              "      <td>politicsNews</td>\n",
              "      <td>February 3, 2017</td>\n",
              "      <td>1</td>\n",
              "    </tr>\n",
              "    <tr>\n",
              "      <th>2</th>\n",
              "      <td>A DEFENSIVE JOHN KERRY Asks That Israel Move I...</td>\n",
              "      <td>John Kerry gave a long-winded speech today cla...</td>\n",
              "      <td>Government News</td>\n",
              "      <td>Dec 28, 2016</td>\n",
              "      <td>0</td>\n",
              "    </tr>\n",
              "    <tr>\n",
              "      <th>3</th>\n",
              "      <td>EU calls report on May-Juncker talks a smear</td>\n",
              "      <td>BRUSSELS (Reuters) - The European Commission s...</td>\n",
              "      <td>worldnews</td>\n",
              "      <td>October 23, 2017</td>\n",
              "      <td>1</td>\n",
              "    </tr>\n",
              "    <tr>\n",
              "      <th>4</th>\n",
              "      <td>HIV POSITIVE, CRACK SMOKING, Liberal Actor Cha...</td>\n",
              "      <td>Less than one year ago, Charlie Sheen s ex-wif...</td>\n",
              "      <td>politics</td>\n",
              "      <td>Dec 29, 2016</td>\n",
              "      <td>0</td>\n",
              "    </tr>\n",
              "  </tbody>\n",
              "</table>\n",
              "</div>\n",
              "      <button class=\"colab-df-convert\" onclick=\"convertToInteractive('df-2a6174a8-88a4-43ec-bccc-d84a90d00b84')\"\n",
              "              title=\"Convert this dataframe to an interactive table.\"\n",
              "              style=\"display:none;\">\n",
              "        \n",
              "  <svg xmlns=\"http://www.w3.org/2000/svg\" height=\"24px\"viewBox=\"0 0 24 24\"\n",
              "       width=\"24px\">\n",
              "    <path d=\"M0 0h24v24H0V0z\" fill=\"none\"/>\n",
              "    <path d=\"M18.56 5.44l.94 2.06.94-2.06 2.06-.94-2.06-.94-.94-2.06-.94 2.06-2.06.94zm-11 1L8.5 8.5l.94-2.06 2.06-.94-2.06-.94L8.5 2.5l-.94 2.06-2.06.94zm10 10l.94 2.06.94-2.06 2.06-.94-2.06-.94-.94-2.06-.94 2.06-2.06.94z\"/><path d=\"M17.41 7.96l-1.37-1.37c-.4-.4-.92-.59-1.43-.59-.52 0-1.04.2-1.43.59L10.3 9.45l-7.72 7.72c-.78.78-.78 2.05 0 2.83L4 21.41c.39.39.9.59 1.41.59.51 0 1.02-.2 1.41-.59l7.78-7.78 2.81-2.81c.8-.78.8-2.07 0-2.86zM5.41 20L4 18.59l7.72-7.72 1.47 1.35L5.41 20z\"/>\n",
              "  </svg>\n",
              "      </button>\n",
              "      \n",
              "  <style>\n",
              "    .colab-df-container {\n",
              "      display:flex;\n",
              "      flex-wrap:wrap;\n",
              "      gap: 12px;\n",
              "    }\n",
              "\n",
              "    .colab-df-convert {\n",
              "      background-color: #E8F0FE;\n",
              "      border: none;\n",
              "      border-radius: 50%;\n",
              "      cursor: pointer;\n",
              "      display: none;\n",
              "      fill: #1967D2;\n",
              "      height: 32px;\n",
              "      padding: 0 0 0 0;\n",
              "      width: 32px;\n",
              "    }\n",
              "\n",
              "    .colab-df-convert:hover {\n",
              "      background-color: #E2EBFA;\n",
              "      box-shadow: 0px 1px 2px rgba(60, 64, 67, 0.3), 0px 1px 3px 1px rgba(60, 64, 67, 0.15);\n",
              "      fill: #174EA6;\n",
              "    }\n",
              "\n",
              "    [theme=dark] .colab-df-convert {\n",
              "      background-color: #3B4455;\n",
              "      fill: #D2E3FC;\n",
              "    }\n",
              "\n",
              "    [theme=dark] .colab-df-convert:hover {\n",
              "      background-color: #434B5C;\n",
              "      box-shadow: 0px 1px 3px 1px rgba(0, 0, 0, 0.15);\n",
              "      filter: drop-shadow(0px 1px 2px rgba(0, 0, 0, 0.3));\n",
              "      fill: #FFFFFF;\n",
              "    }\n",
              "  </style>\n",
              "\n",
              "      <script>\n",
              "        const buttonEl =\n",
              "          document.querySelector('#df-2a6174a8-88a4-43ec-bccc-d84a90d00b84 button.colab-df-convert');\n",
              "        buttonEl.style.display =\n",
              "          google.colab.kernel.accessAllowed ? 'block' : 'none';\n",
              "\n",
              "        async function convertToInteractive(key) {\n",
              "          const element = document.querySelector('#df-2a6174a8-88a4-43ec-bccc-d84a90d00b84');\n",
              "          const dataTable =\n",
              "            await google.colab.kernel.invokeFunction('convertToInteractive',\n",
              "                                                     [key], {});\n",
              "          if (!dataTable) return;\n",
              "\n",
              "          const docLinkHtml = 'Like what you see? Visit the ' +\n",
              "            '<a target=\"_blank\" href=https://colab.research.google.com/notebooks/data_table.ipynb>data table notebook</a>'\n",
              "            + ' to learn more about interactive tables.';\n",
              "          element.innerHTML = '';\n",
              "          dataTable['output_type'] = 'display_data';\n",
              "          await google.colab.output.renderOutput(dataTable, element);\n",
              "          const docLink = document.createElement('div');\n",
              "          docLink.innerHTML = docLinkHtml;\n",
              "          element.appendChild(docLink);\n",
              "        }\n",
              "      </script>\n",
              "    </div>\n",
              "  </div>\n",
              "  "
            ]
          },
          "metadata": {},
          "execution_count": 4
        }
      ],
      "source": [
        "df = pd.read_csv('/content/drive/MyDrive/DA/data/Datasets/combined_dataset.csv')\n",
        "df.head()"
      ]
    },
    {
      "cell_type": "code",
      "execution_count": 5,
      "metadata": {
        "id": "rY92TBR_zahX"
      },
      "outputs": [],
      "source": [
        "def sentiment_vader(sentence):\n",
        "    s = SentimentIntensityAnalyzer()\n",
        "    sentiment_dict = s.polarity_scores(sentence)\n",
        "    negative = sentiment_dict['neg']\n",
        "    neutral = sentiment_dict['neu']\n",
        "    positive = sentiment_dict['pos']\n",
        "    compound = sentiment_dict['compound']\n",
        "    if sentiment_dict['compound'] >= 0.05 :\n",
        "        overall_sentiment = \"Positive\"\n",
        "    elif sentiment_dict['compound'] <= - 0.05 :\n",
        "        overall_sentiment = \"Negative\"\n",
        "    else :\n",
        "        overall_sentiment = \"Neutral\" \n",
        "    return negative, neutral, positive, compound, overall_sentiment"
      ]
    },
    {
      "cell_type": "code",
      "execution_count": 6,
      "metadata": {
        "id": "ydkwmirQzhnt",
        "colab": {
          "base_uri": "https://localhost:8080/"
        },
        "outputId": "bd1fe10d-d36f-480a-815d-8b5eec9034cf"
      },
      "outputs": [
        {
          "output_type": "stream",
          "name": "stdout",
          "text": [
            "WASHINGTON/PALM BEACH, Fla (Reuters) - U.S. President Donald Trump said the Justice Department will win an appeal filed late Saturday of a judge’s order lifting a travel ban he had imposed on citizens of seven mainly Muslim countries. “We’ll win. For the safety of the country, we’ll win,” he told reporters at his private Mar-a-Lago resort in Palm Beach, Florida, shortly after the Justice Department filed a notice that it intends to appeal the order. Trump’s personal attack on U.S. District Judge James Robart in Seattle went too far for some who said the president was undermining an institution designed to check the power of the White House and Congress. “The opinion of this so-called judge, which essentially takes law-enforcement away from our country, is ridiculous and will be overturned!” Trump said on Twitter early on Saturday. Trump has said “extreme vetting” of refugees and immigrants is needed to prevent terrorist attacks. Throughout the day, Trump continued to criticize the decision in tweets. Late Saturday, Trump showed no signs of backing down. “The judge opens up our country to potential terrorists and others that do not have our best interests at heart. Bad people are very happy!” he tweeted. As the ban lifted, refugees and thousands of travelers from Iran, Iraq, Libya, Somalia, Sudan, Syria and Yemen who had been stopped in their tracks last weekend by Trump’s executive order scrambled to get flights to quickly enter the United States. The Justice Department did not say when it would file its appeal with the Ninth Circuit U.S. Court of Appeals of the ruling made by Robart late on Friday that also lifted Trump’s temporary ban imposed on refugee admissions. The judge appointed by former Republican President George W. Bush questioned the constitutionality of Trump’s order.  The three-judge panel that will decide whether to immediately block the ruling includes appointees of George W. Bush and two former Democratic presidents, Jimmy Carter and Barack Obama. Trump’s tweets criticizing the judge’s decision could make it tougher for Justice Department attorneys as they seek to defend the executive order in Washington state and other courts, said Jonathan Turley, a law professor at George Washington University, adding that presidents are usually circumspect about commenting on government litigation. “It’s hard for the president to demand that courts respect his inherent authority when he is disrespecting the inherent authority of the judiciary. That certainly tends to poison the well for litigation,” Turley said. U.S. immigration advocacy groups including the American Civil Liberties Union and International Refugee Assistance Project on Saturday in a joint statement urged those with now valid visas from the seven nations “to consider rebooking travel to the United States immediately” because the ruling could be overturned or put on hold. A U.S. State Department email reviewed by Reuters said the department is working to begin admitting refugees including Syrians as soon as Monday. It is unusual for a president to attack a member of the judiciary, which the U.S. Constitution designates as a check to the power of the executive branch and Congress. Reached by email Saturday, Robart declined comment on Trump’s tweets. Democratic U.S. Senator Patrick Leahy of Vermont said in a statement Saturday that Trump’s “hostility toward the rule of law is not just embarrassing, it is dangerous. He seems intent on precipitating a constitutional crisis.” “Read the ‘so-called’ Constitution,” tweeted Representative Adam Schiff, the top Democrat on the House Intelligence committee. In an interview with ABC scheduled to air on Sunday, Vice President Mike Pence said he did not think that Trump’s criticisms of the judge undermined the separation of powers. “I think the American people are very accustomed to this president speaking his mind and speaking very straight with them,” Pence said, according to an excerpt of the interview. The court ruling was the first move in what could be months of legal challenges to Trump’s push to clamp down on immigration. His order set off chaos last week at airports across the United States where travelers were stranded and thousands of people gathered to protest. Americans are divided over Trump’s order. A Reuters/Ipsos poll this week showed 49 percent favored it while 41 percent did not. Wes Parker, a retiree from Long Beach, California, held a sign saying “Trump is love” at the Los Angeles International Airport, and said he supported the tighter measures. “We just have to support the travel pause,” said Parker, 62. “If you were a new president coming in, wouldn’t you want what you feel safe with?” Rights groups, Democrats and U.S. allies have condemned the travel ban as discriminatory. On Saturday, there were protests against the immigrant curb in Washington, New York, Los Angeles and other cities. At the White House, hundreds of protesters chanted “Donald, Donald can’t you see? You’re not welcome in D.C.” The sudden reversal of the ban catapulted would-be immigrants back to airports, with uncertainty over how long the window to enter the United States will remain open. In Erbil, the capital of the Kurdish region of northern Iraq, Fuad Sharef and his family prepared to fly on Saturday to Istanbul and then New York before starting a new life in Nashville, Tennessee. “I am very happy that we are going to travel today. Finally, we made it,” said Sharef, who was stopped from boarding a New York-bound flight last week. The Department of Homeland Security said on Saturday it would return to its normal procedures for screening travelers  but that the Justice Department would file for an emergency stay of the order “at the earliest possible time.” Some travelers told Reuters they were cautious about the sudden change. “I will not say if I have hope or not. I wait, watch and then I build my hopes,” said Josephine Abu Assaleh, 60, who was stopped from entering the United States after landing in Philadelphia last week with five members of her family. “We left the matter with the lawyers. When they tell us the decision has been canceled, we will decide whether to go back or not,” she told Reuters in Damascus, speaking by telephone. Virtually all refugees also were barred by Trump’s order, upending the lives of thousands of people who have spent years seeking asylum in the United States. Friday night’s court decision sent refugee advocacy and resettlement agencies scrambling to help people in the pipeline. Iraqi refugee Nizar al-Qassab, 52, told Reuters in Lebanon that his family had been due to travel to the United States for resettlement on Jan. 31. The trip was canceled two days before that and he was now waiting for a phone call from U.N. officials overseeing their case.  “It’s in God’s hands,” he said. \n"
          ]
        }
      ],
      "source": [
        "print(df.text[1])"
      ]
    },
    {
      "cell_type": "code",
      "execution_count": 7,
      "metadata": {
        "id": "un0CaVBA0ClZ",
        "colab": {
          "base_uri": "https://localhost:8080/"
        },
        "outputId": "1f6542d9-7169-47d9-82a3-e3b332a3d0a9"
      },
      "outputs": [
        {
          "output_type": "execute_result",
          "data": {
            "text/plain": [
              "(0.063, 0.862, 0.075, 0.9447, 'Positive')"
            ]
          },
          "metadata": {},
          "execution_count": 7
        }
      ],
      "source": [
        "res = sentiment_vader(df.text[1])\n",
        "res"
      ]
    },
    {
      "cell_type": "code",
      "execution_count": 8,
      "metadata": {
        "colab": {
          "base_uri": "https://localhost:8080/",
          "height": 389
        },
        "id": "F-s8JIB30O8E",
        "outputId": "dd212a18-19d8-4852-ae53-a9b851b00772"
      },
      "outputs": [
        {
          "output_type": "execute_result",
          "data": {
            "text/plain": [
              "                                               title  \\\n",
              "0  China's ruling Communist Party expels former G...   \n",
              "1  Trump: U.S. will win appeal of judge's travel ...   \n",
              "2  A DEFENSIVE JOHN KERRY Asks That Israel Move I...   \n",
              "3       EU calls report on May-Juncker talks a smear   \n",
              "4  HIV POSITIVE, CRACK SMOKING, Liberal Actor Cha...   \n",
              "\n",
              "                                                text          subject  \\\n",
              "0  BEIJING (Reuters) - China s ruling Communist P...        worldnews   \n",
              "1  WASHINGTON/PALM BEACH, Fla (Reuters) - U.S. Pr...     politicsNews   \n",
              "2  John Kerry gave a long-winded speech today cla...  Government News   \n",
              "3  BRUSSELS (Reuters) - The European Commission s...        worldnews   \n",
              "4  Less than one year ago, Charlie Sheen s ex-wif...         politics   \n",
              "\n",
              "                  date  label  Negative  Positive  Neutral  Compound  \\\n",
              "0  September 22, 2017       1     0.075     0.091    0.833    0.6684   \n",
              "1    February 3, 2017       1     0.063     0.075    0.862    0.9447   \n",
              "2         Dec 28, 2016      0     0.149     0.108    0.743   -0.8979   \n",
              "3    October 23, 2017       1     0.128     0.096    0.776   -0.9607   \n",
              "4         Dec 29, 2016      0     0.172     0.094    0.733   -0.9874   \n",
              "\n",
              "  Overall sentiment  \n",
              "0          Positive  \n",
              "1          Positive  \n",
              "2          Negative  \n",
              "3          Negative  \n",
              "4          Negative  "
            ],
            "text/html": [
              "\n",
              "  <div id=\"df-075bd844-9ec1-49bc-9d54-735e48d7aa85\">\n",
              "    <div class=\"colab-df-container\">\n",
              "      <div>\n",
              "<style scoped>\n",
              "    .dataframe tbody tr th:only-of-type {\n",
              "        vertical-align: middle;\n",
              "    }\n",
              "\n",
              "    .dataframe tbody tr th {\n",
              "        vertical-align: top;\n",
              "    }\n",
              "\n",
              "    .dataframe thead th {\n",
              "        text-align: right;\n",
              "    }\n",
              "</style>\n",
              "<table border=\"1\" class=\"dataframe\">\n",
              "  <thead>\n",
              "    <tr style=\"text-align: right;\">\n",
              "      <th></th>\n",
              "      <th>title</th>\n",
              "      <th>text</th>\n",
              "      <th>subject</th>\n",
              "      <th>date</th>\n",
              "      <th>label</th>\n",
              "      <th>Negative</th>\n",
              "      <th>Positive</th>\n",
              "      <th>Neutral</th>\n",
              "      <th>Compound</th>\n",
              "      <th>Overall sentiment</th>\n",
              "    </tr>\n",
              "  </thead>\n",
              "  <tbody>\n",
              "    <tr>\n",
              "      <th>0</th>\n",
              "      <td>China's ruling Communist Party expels former G...</td>\n",
              "      <td>BEIJING (Reuters) - China s ruling Communist P...</td>\n",
              "      <td>worldnews</td>\n",
              "      <td>September 22, 2017</td>\n",
              "      <td>1</td>\n",
              "      <td>0.075</td>\n",
              "      <td>0.091</td>\n",
              "      <td>0.833</td>\n",
              "      <td>0.6684</td>\n",
              "      <td>Positive</td>\n",
              "    </tr>\n",
              "    <tr>\n",
              "      <th>1</th>\n",
              "      <td>Trump: U.S. will win appeal of judge's travel ...</td>\n",
              "      <td>WASHINGTON/PALM BEACH, Fla (Reuters) - U.S. Pr...</td>\n",
              "      <td>politicsNews</td>\n",
              "      <td>February 3, 2017</td>\n",
              "      <td>1</td>\n",
              "      <td>0.063</td>\n",
              "      <td>0.075</td>\n",
              "      <td>0.862</td>\n",
              "      <td>0.9447</td>\n",
              "      <td>Positive</td>\n",
              "    </tr>\n",
              "    <tr>\n",
              "      <th>2</th>\n",
              "      <td>A DEFENSIVE JOHN KERRY Asks That Israel Move I...</td>\n",
              "      <td>John Kerry gave a long-winded speech today cla...</td>\n",
              "      <td>Government News</td>\n",
              "      <td>Dec 28, 2016</td>\n",
              "      <td>0</td>\n",
              "      <td>0.149</td>\n",
              "      <td>0.108</td>\n",
              "      <td>0.743</td>\n",
              "      <td>-0.8979</td>\n",
              "      <td>Negative</td>\n",
              "    </tr>\n",
              "    <tr>\n",
              "      <th>3</th>\n",
              "      <td>EU calls report on May-Juncker talks a smear</td>\n",
              "      <td>BRUSSELS (Reuters) - The European Commission s...</td>\n",
              "      <td>worldnews</td>\n",
              "      <td>October 23, 2017</td>\n",
              "      <td>1</td>\n",
              "      <td>0.128</td>\n",
              "      <td>0.096</td>\n",
              "      <td>0.776</td>\n",
              "      <td>-0.9607</td>\n",
              "      <td>Negative</td>\n",
              "    </tr>\n",
              "    <tr>\n",
              "      <th>4</th>\n",
              "      <td>HIV POSITIVE, CRACK SMOKING, Liberal Actor Cha...</td>\n",
              "      <td>Less than one year ago, Charlie Sheen s ex-wif...</td>\n",
              "      <td>politics</td>\n",
              "      <td>Dec 29, 2016</td>\n",
              "      <td>0</td>\n",
              "      <td>0.172</td>\n",
              "      <td>0.094</td>\n",
              "      <td>0.733</td>\n",
              "      <td>-0.9874</td>\n",
              "      <td>Negative</td>\n",
              "    </tr>\n",
              "  </tbody>\n",
              "</table>\n",
              "</div>\n",
              "      <button class=\"colab-df-convert\" onclick=\"convertToInteractive('df-075bd844-9ec1-49bc-9d54-735e48d7aa85')\"\n",
              "              title=\"Convert this dataframe to an interactive table.\"\n",
              "              style=\"display:none;\">\n",
              "        \n",
              "  <svg xmlns=\"http://www.w3.org/2000/svg\" height=\"24px\"viewBox=\"0 0 24 24\"\n",
              "       width=\"24px\">\n",
              "    <path d=\"M0 0h24v24H0V0z\" fill=\"none\"/>\n",
              "    <path d=\"M18.56 5.44l.94 2.06.94-2.06 2.06-.94-2.06-.94-.94-2.06-.94 2.06-2.06.94zm-11 1L8.5 8.5l.94-2.06 2.06-.94-2.06-.94L8.5 2.5l-.94 2.06-2.06.94zm10 10l.94 2.06.94-2.06 2.06-.94-2.06-.94-.94-2.06-.94 2.06-2.06.94z\"/><path d=\"M17.41 7.96l-1.37-1.37c-.4-.4-.92-.59-1.43-.59-.52 0-1.04.2-1.43.59L10.3 9.45l-7.72 7.72c-.78.78-.78 2.05 0 2.83L4 21.41c.39.39.9.59 1.41.59.51 0 1.02-.2 1.41-.59l7.78-7.78 2.81-2.81c.8-.78.8-2.07 0-2.86zM5.41 20L4 18.59l7.72-7.72 1.47 1.35L5.41 20z\"/>\n",
              "  </svg>\n",
              "      </button>\n",
              "      \n",
              "  <style>\n",
              "    .colab-df-container {\n",
              "      display:flex;\n",
              "      flex-wrap:wrap;\n",
              "      gap: 12px;\n",
              "    }\n",
              "\n",
              "    .colab-df-convert {\n",
              "      background-color: #E8F0FE;\n",
              "      border: none;\n",
              "      border-radius: 50%;\n",
              "      cursor: pointer;\n",
              "      display: none;\n",
              "      fill: #1967D2;\n",
              "      height: 32px;\n",
              "      padding: 0 0 0 0;\n",
              "      width: 32px;\n",
              "    }\n",
              "\n",
              "    .colab-df-convert:hover {\n",
              "      background-color: #E2EBFA;\n",
              "      box-shadow: 0px 1px 2px rgba(60, 64, 67, 0.3), 0px 1px 3px 1px rgba(60, 64, 67, 0.15);\n",
              "      fill: #174EA6;\n",
              "    }\n",
              "\n",
              "    [theme=dark] .colab-df-convert {\n",
              "      background-color: #3B4455;\n",
              "      fill: #D2E3FC;\n",
              "    }\n",
              "\n",
              "    [theme=dark] .colab-df-convert:hover {\n",
              "      background-color: #434B5C;\n",
              "      box-shadow: 0px 1px 3px 1px rgba(0, 0, 0, 0.15);\n",
              "      filter: drop-shadow(0px 1px 2px rgba(0, 0, 0, 0.3));\n",
              "      fill: #FFFFFF;\n",
              "    }\n",
              "  </style>\n",
              "\n",
              "      <script>\n",
              "        const buttonEl =\n",
              "          document.querySelector('#df-075bd844-9ec1-49bc-9d54-735e48d7aa85 button.colab-df-convert');\n",
              "        buttonEl.style.display =\n",
              "          google.colab.kernel.accessAllowed ? 'block' : 'none';\n",
              "\n",
              "        async function convertToInteractive(key) {\n",
              "          const element = document.querySelector('#df-075bd844-9ec1-49bc-9d54-735e48d7aa85');\n",
              "          const dataTable =\n",
              "            await google.colab.kernel.invokeFunction('convertToInteractive',\n",
              "                                                     [key], {});\n",
              "          if (!dataTable) return;\n",
              "\n",
              "          const docLinkHtml = 'Like what you see? Visit the ' +\n",
              "            '<a target=\"_blank\" href=https://colab.research.google.com/notebooks/data_table.ipynb>data table notebook</a>'\n",
              "            + ' to learn more about interactive tables.';\n",
              "          element.innerHTML = '';\n",
              "          dataTable['output_type'] = 'display_data';\n",
              "          await google.colab.output.renderOutput(dataTable, element);\n",
              "          const docLink = document.createElement('div');\n",
              "          docLink.innerHTML = docLinkHtml;\n",
              "          element.appendChild(docLink);\n",
              "        }\n",
              "      </script>\n",
              "    </div>\n",
              "  </div>\n",
              "  "
            ]
          },
          "metadata": {},
          "execution_count": 8
        }
      ],
      "source": [
        "negative = []\n",
        "positive = []\n",
        "neutral = []\n",
        "compound = []\n",
        "overall_sentiment = []\n",
        "for i in df['text']:\n",
        "  res = sentiment_vader(i)\n",
        "  negative.append(res[0])\n",
        "  neutral.append(res[1])\n",
        "  positive.append(res[2])\n",
        "  compound.append(res[3])\n",
        "  overall_sentiment.append(res[4])\n",
        "df['Negative'] = negative\n",
        "df['Positive'] = positive\n",
        "df['Neutral'] = neutral\n",
        "df['Compound'] = compound\n",
        "df['Overall sentiment'] = overall_sentiment\n",
        "df.head()"
      ]
    },
    {
      "cell_type": "code",
      "execution_count": 10,
      "metadata": {
        "id": "pgwOOPpw4NA1"
      },
      "outputs": [],
      "source": [
        "df.to_csv('/content/drive/MyDrive/DA/data/Emotion Classification data/sentiment_analysis.csv', index = False)"
      ]
    }
  ],
  "metadata": {
    "colab": {
      "collapsed_sections": [],
      "provenance": []
    },
    "kernelspec": {
      "display_name": "Python 3",
      "name": "python3"
    },
    "language_info": {
      "name": "python"
    }
  },
  "nbformat": 4,
  "nbformat_minor": 0
}